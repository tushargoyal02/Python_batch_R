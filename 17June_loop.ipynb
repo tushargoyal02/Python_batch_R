{
 "cells": [
  {
   "cell_type": "code",
   "execution_count": 1,
   "id": "e0da9b42",
   "metadata": {},
   "outputs": [],
   "source": [
    "# nested if else\n",
    "# data types  "
   ]
  },
  {
   "cell_type": "code",
   "execution_count": 2,
   "id": "954a5b10",
   "metadata": {},
   "outputs": [],
   "source": [
    "# >3  and  aadhar card\n",
    "# 18 => driving license"
   ]
  },
  {
   "cell_type": "code",
   "execution_count": 5,
   "id": "706920df",
   "metadata": {},
   "outputs": [
    {
     "name": "stdout",
     "output_type": "stream",
     "text": [
      "Not eligible\n"
     ]
    }
   ],
   "source": [
    "age=2\n",
    "if(age>3):\n",
    "    print(\"Aadhar card will be issues\")\n",
    "    if(age>=18):\n",
    "        print(\"Driving liscence\")\n",
    "    else:\n",
    "        print(\"No driving liscence\")\n",
    "else:\n",
    "    print(\"Not eligible\")"
   ]
  },
  {
   "cell_type": "code",
   "execution_count": 8,
   "id": "2e53c3b8",
   "metadata": {},
   "outputs": [
    {
     "name": "stdout",
     "output_type": "stream",
     "text": [
      "2570963845904\n"
     ]
    }
   ],
   "source": [
    "age=18\n",
    "print( id(age))"
   ]
  },
  {
   "cell_type": "code",
   "execution_count": 10,
   "id": "58b7d554",
   "metadata": {},
   "outputs": [
    {
     "name": "stdout",
     "output_type": "stream",
     "text": [
      "2570963845904\n"
     ]
    }
   ],
   "source": [
    "y=age\n",
    "print(id(y))"
   ]
  },
  {
   "cell_type": "code",
   "execution_count": 16,
   "id": "809a356c",
   "metadata": {},
   "outputs": [
    {
     "name": "stdout",
     "output_type": "stream",
     "text": [
      "2570963845968 2570963845904\n"
     ]
    }
   ],
   "source": [
    "y=20\n",
    "print(id(y) , id(age))"
   ]
  },
  {
   "cell_type": "code",
   "execution_count": 17,
   "id": "3f212b8f",
   "metadata": {},
   "outputs": [],
   "source": [
    "# call by object reference"
   ]
  },
  {
   "cell_type": "code",
   "execution_count": 18,
   "id": "76602fb8",
   "metadata": {},
   "outputs": [],
   "source": [
    "#conditional operator sliciing operator\n",
    "# loops\n"
   ]
  },
  {
   "cell_type": "code",
   "execution_count": 19,
   "id": "d1aac502",
   "metadata": {},
   "outputs": [
    {
     "data": {
      "text/plain": [
       "'\\n# 1to100 => 7 & 6 \\nfor(i=0; i<5; i++) \\n\\n# starting ke 100  =>  7 & 6\\ni=0\\nwhile(i<5):\\n    i++\\n\\n\\n'"
      ]
     },
     "execution_count": 19,
     "metadata": {},
     "output_type": "execute_result"
    }
   ],
   "source": [
    "# statement => repeatitive task\n",
    "'''\n",
    "# 1to100 => 7 & 6 \n",
    "for(i=0; i<5; i++) \n",
    "\n",
    "# starting ke 100  =>  7 & 6\n",
    "i=0\n",
    "while(i<5):\n",
    "    i++\n",
    "\n",
    "\n",
    "'''"
   ]
  },
  {
   "cell_type": "code",
   "execution_count": 26,
   "id": "21ad2bfc",
   "metadata": {},
   "outputs": [
    {
     "name": "stdout",
     "output_type": "stream",
     "text": [
      "hello 10\n",
      "hello 9\n",
      "hello 8\n",
      "hello 7\n",
      "hello 6\n",
      "hello 5\n",
      "hello 4\n",
      "hello 3\n",
      "hello 2\n"
     ]
    }
   ],
   "source": [
    "# for(i=0 ; i<5 ; i++)\n",
    "# for i in range(0,5)\n",
    "# range( starting,  stopping , [step=1] )\n",
    "\n",
    "for i in range(10,1,-1):\n",
    "    print(\"hello\",i)"
   ]
  },
  {
   "cell_type": "code",
   "execution_count": 32,
   "id": "7be4c08f",
   "metadata": {},
   "outputs": [
    {
     "name": "stdout",
     "output_type": "stream",
     "text": [
      "Total is 15\n"
     ]
    }
   ],
   "source": [
    "total=0\n",
    "\n",
    "for i in range(1,6):\n",
    "    total = total +i\n",
    "\n",
    "print(\"Total is\", total)"
   ]
  },
  {
   "cell_type": "code",
   "execution_count": 35,
   "id": "053e5e41",
   "metadata": {},
   "outputs": [
    {
     "name": "stdout",
     "output_type": "stream",
     "text": [
      "4550\n"
     ]
    }
   ],
   "source": [
    "total=0\n",
    "for j in range(95,4,-1):\n",
    "    total+=j\n",
    "    \n",
    "print(total)"
   ]
  },
  {
   "cell_type": "code",
   "execution_count": 39,
   "id": "66332b84",
   "metadata": {},
   "outputs": [
    {
     "name": "stdout",
     "output_type": "stream",
     "text": [
      "156\n"
     ]
    }
   ],
   "source": [
    "total=0\n",
    "for i in range(1,25):\n",
    "    if( i%2==0):\n",
    "        total+=i\n",
    "print(total)"
   ]
  },
  {
   "cell_type": "code",
   "execution_count": 59,
   "id": "ed0f3284",
   "metadata": {},
   "outputs": [
    {
     "name": "stdout",
     "output_type": "stream",
     "text": [
      "0 J\n",
      "1 o\n",
      "2 d\n",
      "3 h\n",
      "4 p\n",
      "5 u\n",
      "6 r\n",
      "7  \n",
      "8 c\n",
      "9 i\n",
      "10 t\n",
      "11 y\n"
     ]
    }
   ],
   "source": [
    "city=\"Jodhpur city\"\n",
    "for char in range(0, len(city) ):\n",
    "    print(char, city[char])"
   ]
  },
  {
   "cell_type": "code",
   "execution_count": 60,
   "id": "e0e42b5e",
   "metadata": {},
   "outputs": [
    {
     "data": {
      "text/plain": [
       "25"
      ]
     },
     "execution_count": 60,
     "metadata": {},
     "output_type": "execute_result"
    }
   ],
   "source": [
    "city=\"Jaipur1asdfdsafsadfdsaf23\"\n",
    "len(city)"
   ]
  },
  {
   "cell_type": "code",
   "execution_count": 61,
   "id": "5c4e56d3",
   "metadata": {},
   "outputs": [
    {
     "name": "stdout",
     "output_type": "stream",
     "text": [
      "0 J\n",
      "1 a\n"
     ]
    }
   ],
   "source": [
    "city=\"Ja\"\n",
    "for i in range(0, len(city)):\n",
    "    print(i, city[i] )"
   ]
  },
  {
   "cell_type": "code",
   "execution_count": null,
   "id": "fb0f655b",
   "metadata": {},
   "outputs": [],
   "source": [
    "# take a string input from a user and check whether the string satisy\n",
    "'''\n",
    "the following conditions\n",
    "- String should have minimum 3 small letters (a to z)\n",
    "- atleast 2 capital letter in between (G to U)\n",
    "- atlease 1 numeric value\n",
    "- atleast 1 speical character like (@ # $)\n",
    "- string should have minium 7 to 16 character\n",
    "- and if all the condition is satisfied \n",
    "- print( string is valid for the password)\n",
    "- otherwise ( string is invalid)\n",
    "'''"
   ]
  }
 ],
 "metadata": {
  "kernelspec": {
   "display_name": "Python 3 (ipykernel)",
   "language": "python",
   "name": "python3"
  },
  "language_info": {
   "codemirror_mode": {
    "name": "ipython",
    "version": 3
   },
   "file_extension": ".py",
   "mimetype": "text/x-python",
   "name": "python",
   "nbconvert_exporter": "python",
   "pygments_lexer": "ipython3",
   "version": "3.10.11"
  }
 },
 "nbformat": 4,
 "nbformat_minor": 5
}
