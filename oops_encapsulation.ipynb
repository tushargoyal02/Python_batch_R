{
 "cells": [
  {
   "cell_type": "code",
   "execution_count": 1,
   "id": "5d96d979",
   "metadata": {},
   "outputs": [],
   "source": [
    "# polymorphism\n",
    "# many form\n",
    "# hardik pandaya =>"
   ]
  },
  {
   "cell_type": "code",
   "execution_count": 3,
   "id": "c5a17cc8",
   "metadata": {},
   "outputs": [
    {
     "data": {
      "text/plain": [
       "3"
      ]
     },
     "execution_count": 3,
     "metadata": {},
     "output_type": "execute_result"
    }
   ],
   "source": [
    "1+2"
   ]
  },
  {
   "cell_type": "code",
   "execution_count": 5,
   "id": "463b2fae",
   "metadata": {},
   "outputs": [
    {
     "data": {
      "text/plain": [
       "'12'"
      ]
     },
     "execution_count": 5,
     "metadata": {},
     "output_type": "execute_result"
    }
   ],
   "source": [
    "\"1\"+\"2\""
   ]
  },
  {
   "cell_type": "code",
   "execution_count": 6,
   "id": "cada032c",
   "metadata": {},
   "outputs": [],
   "source": [
    "# + => multiple forms ( polymorphism)\n",
    "# function , object, operator"
   ]
  },
  {
   "cell_type": "code",
   "execution_count": 10,
   "id": "fd5f4b0e",
   "metadata": {},
   "outputs": [
    {
     "name": "stdout",
     "output_type": "stream",
     "text": [
      "This is a mammel class\n"
     ]
    }
   ],
   "source": [
    "class Mammel:\n",
    "    def info(self):\n",
    "        print(\"This is a mammel class\")\n",
    "        \n",
    "m1=Mammel()\n",
    "m1.info()"
   ]
  },
  {
   "cell_type": "code",
   "execution_count": 14,
   "id": "b1c1e0d0",
   "metadata": {},
   "outputs": [
    {
     "name": "stdout",
     "output_type": "stream",
     "text": [
      "This is a Person class\n"
     ]
    }
   ],
   "source": [
    "class Person(Mammel):\n",
    "    def info(self):\n",
    "        print(\"This is a Person class\")\n",
    "    def xyz(self):\n",
    "        print(\"Printing info of person class\")\n",
    "        \n",
    "p1=Person()\n",
    "p1.info()"
   ]
  },
  {
   "cell_type": "code",
   "execution_count": 15,
   "id": "83ca3d2d",
   "metadata": {},
   "outputs": [
    {
     "ename": "SyntaxError",
     "evalue": "expected ':' (2009966878.py, line 2)",
     "output_type": "error",
     "traceback": [
      "\u001b[1;36m  Cell \u001b[1;32mIn[15], line 2\u001b[1;36m\u001b[0m\n\u001b[1;33m    def info(x)\u001b[0m\n\u001b[1;37m               ^\u001b[0m\n\u001b[1;31mSyntaxError\u001b[0m\u001b[1;31m:\u001b[0m expected ':'\n"
     ]
    }
   ],
   "source": [
    "# method overloading\n",
    "def info(x)\n",
    "def info(x,y)"
   ]
  },
  {
   "cell_type": "code",
   "execution_count": 25,
   "id": "f3f0938b",
   "metadata": {},
   "outputs": [
    {
     "name": "stdout",
     "output_type": "stream",
     "text": [
      "hey\n"
     ]
    }
   ],
   "source": [
    "class AddValues:\n",
    "    def __init__(self, x,y):\n",
    "        self.x=x\n",
    "        self.y=y\n",
    "    \n",
    "    # overload\n",
    "    def __add__(self,other):\n",
    "        print(\"hey\")\n",
    "        \n",
    "a1=AddValues(10,20)\n",
    "a2=AddValues(15,25)\n",
    "\n",
    "a1+a2\n",
    "# "
   ]
  },
  {
   "cell_type": "code",
   "execution_count": 26,
   "id": "20fffa2d",
   "metadata": {},
   "outputs": [],
   "source": [
    "# encapsulation\n",
    "# feature of oops => variable / method (bound)\n",
    "#restrict the accessibility ( access modifier)\n",
    "# public , private, protected"
   ]
  },
  {
   "cell_type": "code",
   "execution_count": 27,
   "id": "9ee03336",
   "metadata": {},
   "outputs": [],
   "source": [
    "# _,  __"
   ]
  },
  {
   "cell_type": "code",
   "execution_count": 31,
   "id": "db73f5f4",
   "metadata": {},
   "outputs": [],
   "source": [
    "# protected variable  (_)\n",
    "# private variable ( __ )\n",
    "class BankAccount:\n",
    "    __amount=1000"
   ]
  },
  {
   "cell_type": "code",
   "execution_count": 34,
   "id": "53158246",
   "metadata": {},
   "outputs": [
    {
     "data": {
      "text/plain": [
       "1000"
      ]
     },
     "execution_count": 34,
     "metadata": {},
     "output_type": "execute_result"
    }
   ],
   "source": [
    "b1=BankAccount()\n",
    "b1._BankAccount__amount\n",
    "# name mangling\n",
    "# __amount    => _BankAccount__amount"
   ]
  },
  {
   "cell_type": "code",
   "execution_count": 35,
   "id": "636551bb",
   "metadata": {},
   "outputs": [],
   "source": [
    "# abstraction\n",
    "# unwanted details user => hide"
   ]
  },
  {
   "cell_type": "code",
   "execution_count": 42,
   "id": "6a3aeec0",
   "metadata": {},
   "outputs": [],
   "source": [
    "if(True):\n",
    "    pass"
   ]
  },
  {
   "cell_type": "code",
   "execution_count": 51,
   "id": "93811130",
   "metadata": {},
   "outputs": [
    {
     "name": "stdout",
     "output_type": "stream",
     "text": [
      "Mammels has 8 legs\n"
     ]
    }
   ],
   "source": [
    "from abc import ABC, abstractmethod\n",
    "\n",
    "# inherited prooperty of Abstract base class\n",
    "class Mammel(ABC):\n",
    "    \n",
    "    @abstractmethod\n",
    "    def info(self):\n",
    "        pass\n",
    "        \n",
    "class Octopus(Mammel):\n",
    "    def info(self):\n",
    "        print(\"Mammels has 8 legs\")\n",
    "    def live(self):\n",
    "        print(\"he live in water\")\n",
    "        \n",
    "o1=Octopus()\n",
    "o1.info()"
   ]
  },
  {
   "cell_type": "code",
   "execution_count": 52,
   "id": "29a7f45e",
   "metadata": {},
   "outputs": [],
   "source": [
    "# classes and objects"
   ]
  },
  {
   "cell_type": "code",
   "execution_count": null,
   "id": "05224768",
   "metadata": {},
   "outputs": [],
   "source": [
    "'''\n",
    "basic datatype\n",
    "call by value vs call by reference\n",
    "string indeing and slicing\n",
    "operator\n",
    "conditional statement\n",
    "looping statement\n",
    "    pattersn\n",
    "    \n",
    "data structure like list, tuple, dictionary and sets\n",
    "functions\n",
    "type of argument\n",
    "lamdba functions\n",
    "lambda vs normal functions\n",
    "high order funtions, map , filter\n",
    "file handling\n",
    "exception handloing\n",
    "classes and objects\n",
    "OOPs, inheritence, poly , abstraction and encapsulation\n",
    "\n",
    "[Monday ek mcq test] =>60 question 60 minutes\n",
    "'''"
   ]
  }
 ],
 "metadata": {
  "kernelspec": {
   "display_name": "Python 3 (ipykernel)",
   "language": "python",
   "name": "python3"
  },
  "language_info": {
   "codemirror_mode": {
    "name": "ipython",
    "version": 3
   },
   "file_extension": ".py",
   "mimetype": "text/x-python",
   "name": "python",
   "nbconvert_exporter": "python",
   "pygments_lexer": "ipython3",
   "version": "3.10.11"
  }
 },
 "nbformat": 4,
 "nbformat_minor": 5
}
