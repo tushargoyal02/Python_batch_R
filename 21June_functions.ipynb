{
 "cells": [
  {
   "cell_type": "code",
   "execution_count": 1,
   "id": "0340364d",
   "metadata": {},
   "outputs": [
    {
     "name": "stdout",
     "output_type": "stream",
     "text": [
      "hello\n"
     ]
    }
   ],
   "source": [
    "# function\n",
    "print(\"hello\")"
   ]
  },
  {
   "cell_type": "code",
   "execution_count": 2,
   "id": "a9af2f4d",
   "metadata": {},
   "outputs": [],
   "source": [
    "# function is collection of statement\n",
    "# to perform the specific task\n",
    "# acoording to the choice"
   ]
  },
  {
   "cell_type": "code",
   "execution_count": 3,
   "id": "658cc209",
   "metadata": {},
   "outputs": [
    {
     "data": {
      "text/plain": [
       "'\\ndef func():\\n    print(\"hello\")\\n\\n'"
      ]
     },
     "execution_count": 3,
     "metadata": {},
     "output_type": "execute_result"
    }
   ],
   "source": [
    "'''\n",
    "def func():\n",
    "    print(\"hello\")\n",
    "\n",
    "'''"
   ]
  },
  {
   "cell_type": "code",
   "execution_count": 5,
   "id": "711b6b62",
   "metadata": {},
   "outputs": [],
   "source": [
    "# function declaration\n",
    "def msg():\n",
    "    print(\"hello\")\n"
   ]
  },
  {
   "cell_type": "code",
   "execution_count": 9,
   "id": "c9b6fd21",
   "metadata": {},
   "outputs": [
    {
     "name": "stdout",
     "output_type": "stream",
     "text": [
      "hello\n",
      "hello\n",
      "hello\n"
     ]
    }
   ],
   "source": [
    "# calling function\n",
    "msg()\n",
    "msg()\n",
    "msg()"
   ]
  },
  {
   "cell_type": "code",
   "execution_count": 12,
   "id": "bf259504",
   "metadata": {},
   "outputs": [
    {
     "name": "stdout",
     "output_type": "stream",
     "text": [
      "hello tushar\n",
      "hello aman\n"
     ]
    }
   ],
   "source": [
    "# username => parameter\n",
    "def  msg(username):\n",
    "    print(\"hello\", username)\n",
    "    \n",
    "msg(\"tushar\")\n",
    "msg(\"aman\")"
   ]
  },
  {
   "cell_type": "code",
   "execution_count": 17,
   "id": "fd0b0140",
   "metadata": {},
   "outputs": [],
   "source": [
    "# username => parameter  ( Local variable )\n",
    "def  sumNo(x,y):\n",
    "    print(x+y)\n",
    "    "
   ]
  },
  {
   "cell_type": "code",
   "execution_count": 18,
   "id": "16178b43",
   "metadata": {},
   "outputs": [
    {
     "name": "stdout",
     "output_type": "stream",
     "text": [
      "50\n"
     ]
    },
    {
     "ename": "NameError",
     "evalue": "name 'y' is not defined",
     "output_type": "error",
     "traceback": [
      "\u001b[1;31m---------------------------------------------------------------------------\u001b[0m",
      "\u001b[1;31mNameError\u001b[0m                                 Traceback (most recent call last)",
      "Cell \u001b[1;32mIn[18], line 2\u001b[0m\n\u001b[0;32m      1\u001b[0m sumNo(\u001b[38;5;241m10\u001b[39m,\u001b[38;5;241m40\u001b[39m)\n\u001b[1;32m----> 2\u001b[0m \u001b[38;5;28mprint\u001b[39m(\u001b[43my\u001b[49m)\n",
      "\u001b[1;31mNameError\u001b[0m: name 'y' is not defined"
     ]
    }
   ],
   "source": [
    "sumNo(10,40)\n",
    "print(y)"
   ]
  },
  {
   "cell_type": "code",
   "execution_count": null,
   "id": "f2f41ff2",
   "metadata": {},
   "outputs": [],
   "source": []
  },
  {
   "cell_type": "code",
   "execution_count": 26,
   "id": "a32aa1ce",
   "metadata": {},
   "outputs": [],
   "source": [
    "\n",
    "def func(age):\n",
    "    print(age ,\"Old Memory:\",id(age) )\n",
    "    age=100\n",
    "    print(age ,\"New Memory:\",id(age))\n",
    "    "
   ]
  },
  {
   "cell_type": "code",
   "execution_count": 29,
   "id": "f67efa82",
   "metadata": {},
   "outputs": [
    {
     "name": "stdout",
     "output_type": "stream",
     "text": [
      "10 2719027823120\n",
      "10 Old Memory: 2719027823120\n",
      "100 New Memory: 2719027826000\n"
     ]
    }
   ],
   "source": [
    "x=10\n",
    "print(x, id(x))\n",
    "func(x)\n"
   ]
  },
  {
   "cell_type": "code",
   "execution_count": 35,
   "id": "fb42a2f6",
   "metadata": {},
   "outputs": [
    {
     "name": "stdout",
     "output_type": "stream",
     "text": [
      "old Newlist : [10, 20] 2719130297792\n",
      "[10, 20, 'tushar']\n",
      "After function Newlist : [10, 20, 'tushar'] 2719130297792\n"
     ]
    }
   ],
   "source": [
    "def func(mylist):\n",
    "    mylist.append(\"tushar\")\n",
    "    print(mylist)\n",
    "    \n",
    "    \n",
    "#outside -> mutuable\n",
    "newlist=[10,20]\n",
    "print(\"old Newlist :\",newlist,id(newlist) )\n",
    "func(newlist)\n",
    "\n",
    "print(\"After function Newlist :\",newlist,id(newlist) )"
   ]
  },
  {
   "cell_type": "code",
   "execution_count": 36,
   "id": "e6a64adc",
   "metadata": {},
   "outputs": [],
   "source": [
    "# function ( )\n",
    "# we need to create a function which will print True or false \n",
    "# when a number is even\n",
    "# number input should be given by a user"
   ]
  },
  {
   "cell_type": "code",
   "execution_count": 49,
   "id": "b90f16e8",
   "metadata": {},
   "outputs": [
    {
     "name": "stdout",
     "output_type": "stream",
     "text": [
      "Enter a number:36\n",
      "True\n"
     ]
    }
   ],
   "source": [
    "\n",
    "\n",
    "def func(x):\n",
    "    if(x%2==0):\n",
    "        print(True)\n",
    "    else:\n",
    "        print(False)\n",
    " \n",
    "#Outside functions\n",
    "num = int( input(\"Enter a number:\") )\n",
    "func(num)"
   ]
  },
  {
   "cell_type": "code",
   "execution_count": 47,
   "id": "b6b171f4",
   "metadata": {},
   "outputs": [
    {
     "name": "stdout",
     "output_type": "stream",
     "text": [
      "False\n"
     ]
    }
   ],
   "source": [
    "func(25)"
   ]
  },
  {
   "cell_type": "code",
   "execution_count": 48,
   "id": "f4fb42ed",
   "metadata": {},
   "outputs": [
    {
     "name": "stdout",
     "output_type": "stream",
     "text": [
      "True\n"
     ]
    }
   ],
   "source": [
    "func(14)"
   ]
  },
  {
   "cell_type": "code",
   "execution_count": 52,
   "id": "6a609f46",
   "metadata": {},
   "outputs": [],
   "source": [
    "def func(x):\n",
    "    print(x+10)"
   ]
  },
  {
   "cell_type": "code",
   "execution_count": 56,
   "id": "98281990",
   "metadata": {},
   "outputs": [
    {
     "name": "stdout",
     "output_type": "stream",
     "text": [
      "20\n",
      "Out value : None\n"
     ]
    }
   ],
   "source": [
    "out=func(10)\n",
    "print(\"Out value :\", out)\n",
    "# out = None"
   ]
  },
  {
   "cell_type": "code",
   "execution_count": 64,
   "id": "fc6e16ac",
   "metadata": {},
   "outputs": [
    {
     "name": "stdout",
     "output_type": "stream",
     "text": [
      "Out value : XYZ\n"
     ]
    }
   ],
   "source": [
    "def func(x):\n",
    "    return \"XYZ\"\n",
    "    return True\n",
    "    \n",
    "\n",
    "#outside\n",
    "out=func(10)     #out=20\n",
    "print(\"Out value :\", out)"
   ]
  },
  {
   "cell_type": "code",
   "execution_count": 65,
   "id": "a2b4eecb",
   "metadata": {},
   "outputs": [
    {
     "name": "stdout",
     "output_type": "stream",
     "text": [
      "Enter a number:32\n"
     ]
    },
    {
     "data": {
      "text/plain": [
       "True"
      ]
     },
     "execution_count": 65,
     "metadata": {},
     "output_type": "execute_result"
    }
   ],
   "source": [
    "\n",
    "\n",
    "def func(x):\n",
    "    if(x%2==0):\n",
    "        return True\n",
    "    else:\n",
    "        return False\n",
    " \n",
    "#Outside functions\n",
    "num = int( input(\"Enter a number:\") )\n",
    "func(num)"
   ]
  },
  {
   "cell_type": "code",
   "execution_count": null,
   "id": "8ed2ee4a",
   "metadata": {},
   "outputs": [],
   "source": []
  },
  {
   "cell_type": "code",
   "execution_count": 75,
   "id": "8a4735f2",
   "metadata": {},
   "outputs": [
    {
     "name": "stdout",
     "output_type": "stream",
     "text": [
      "LCM 35\n"
     ]
    }
   ],
   "source": [
    "def func(x,y):\n",
    "    if(x>y):\n",
    "        greatest=x\n",
    "    else:\n",
    "        greatest=y\n",
    "        \n",
    "    while(True):\n",
    "        if(greatest%x==0  and greatest%y==0):\n",
    "            print(\"LCM\", greatest)\n",
    "            break\n",
    "        else:\n",
    "            greatest+=1\n",
    "    \n",
    "    \n",
    "func(2,5)"
   ]
  }
 ],
 "metadata": {
  "kernelspec": {
   "display_name": "Python 3 (ipykernel)",
   "language": "python",
   "name": "python3"
  },
  "language_info": {
   "codemirror_mode": {
    "name": "ipython",
    "version": 3
   },
   "file_extension": ".py",
   "mimetype": "text/x-python",
   "name": "python",
   "nbconvert_exporter": "python",
   "pygments_lexer": "ipython3",
   "version": "3.10.11"
  }
 },
 "nbformat": 4,
 "nbformat_minor": 5
}
