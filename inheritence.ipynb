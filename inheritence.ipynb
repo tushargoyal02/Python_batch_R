{
 "cells": [
  {
   "cell_type": "code",
   "execution_count": 18,
   "id": "039a3b7e",
   "metadata": {},
   "outputs": [],
   "source": [
    "class House:\n",
    "    # self == h1\n",
    "    def __init__(self,x):\n",
    "        self.color=x\n",
    "        \n",
    "    def info(self):\n",
    "        print(\"Color of house is \",self.color)\n"
   ]
  },
  {
   "cell_type": "code",
   "execution_count": 19,
   "id": "47a73c82",
   "metadata": {},
   "outputs": [
    {
     "name": "stdout",
     "output_type": "stream",
     "text": [
      "Color of house is  yellow\n"
     ]
    }
   ],
   "source": [
    "h1=House(\"yellow\")\n",
    "h1.info()"
   ]
  },
  {
   "cell_type": "code",
   "execution_count": 20,
   "id": "83e2af4f",
   "metadata": {},
   "outputs": [
    {
     "name": "stdout",
     "output_type": "stream",
     "text": [
      "Color of house is  white\n"
     ]
    }
   ],
   "source": [
    "h2=House(\"white\")\n",
    "h2.info()\n"
   ]
  },
  {
   "cell_type": "code",
   "execution_count": 21,
   "id": "fc3c828d",
   "metadata": {},
   "outputs": [],
   "source": [
    "# inheritence\n",
    "# oops feature\n",
    "# parent class =>  child class"
   ]
  },
  {
   "cell_type": "code",
   "execution_count": 30,
   "id": "bcdc9655",
   "metadata": {},
   "outputs": [
    {
     "name": "stdout",
     "output_type": "stream",
     "text": [
      "FAther class has amount 50000\n"
     ]
    }
   ],
   "source": [
    "# parent\n",
    "class Father:\n",
    "    amount=50000\n",
    "    def info(self):\n",
    "        print(\"FAther class has amount\", self.amount)\n",
    "    \n",
    "# child \n",
    "class Son(Father):\n",
    "    salary=10000\n",
    "    \n",
    "    def naina(self):\n",
    "        super().info()\n",
    "    \n",
    "s1=Son()\n",
    "s1.naina()"
   ]
  },
  {
   "cell_type": "code",
   "execution_count": 32,
   "id": "cf221fe6",
   "metadata": {},
   "outputs": [
    {
     "name": "stdout",
     "output_type": "stream",
     "text": [
      "Nanina\n"
     ]
    }
   ],
   "source": [
    "class Driver:\n",
    "    def __init__(self, name, email):\n",
    "        self.name= name\n",
    "        self.email=email\n",
    "        \n",
    "d1=Driver(\"Nanina\", \"naina@gmail.com\")\n",
    "print(d1.name)"
   ]
  },
  {
   "cell_type": "code",
   "execution_count": 35,
   "id": "3d46a696",
   "metadata": {},
   "outputs": [
    {
     "name": "stdout",
     "output_type": "stream",
     "text": [
      "Raj\n"
     ]
    }
   ],
   "source": [
    "class Customer(Driver):\n",
    "    def __init__(self, x, y):\n",
    "      super().__init__(x,y)\n",
    "c1=Customer(\"Raj\", \"raj@gmail.com\")\n",
    "print(c1.name)"
   ]
  },
  {
   "cell_type": "code",
   "execution_count": 37,
   "id": "0989904b",
   "metadata": {},
   "outputs": [
    {
     "data": {
      "text/plain": [
       "100"
      ]
     },
     "execution_count": 37,
     "metadata": {},
     "output_type": "execute_result"
    }
   ],
   "source": [
    "class Grandfather:\n",
    "    x=100\n",
    "    \n",
    "class Father(Grandfather):\n",
    "    y=200\n",
    "    \n",
    "\n",
    "class Son(Father):\n",
    "    z=300\n",
    "    \n",
    "s1=Son()\n",
    "s1.x"
   ]
  }
 ],
 "metadata": {
  "kernelspec": {
   "display_name": "Python 3 (ipykernel)",
   "language": "python",
   "name": "python3"
  },
  "language_info": {
   "codemirror_mode": {
    "name": "ipython",
    "version": 3
   },
   "file_extension": ".py",
   "mimetype": "text/x-python",
   "name": "python",
   "nbconvert_exporter": "python",
   "pygments_lexer": "ipython3",
   "version": "3.10.11"
  }
 },
 "nbformat": 4,
 "nbformat_minor": 5
}
