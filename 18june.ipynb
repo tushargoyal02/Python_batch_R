{
 "cells": [
  {
   "cell_type": "code",
   "execution_count": 1,
   "id": "8ae68358",
   "metadata": {},
   "outputs": [],
   "source": [
    "# \"A\"\n",
    "# ASCII   char==65  66 67"
   ]
  },
  {
   "cell_type": "code",
   "execution_count": 15,
   "id": "a5aacde8",
   "metadata": {},
   "outputs": [
    {
     "data": {
      "text/plain": [
       "32"
      ]
     },
     "execution_count": 15,
     "metadata": {},
     "output_type": "execute_result"
    }
   ],
   "source": [
    "ord(\" \")"
   ]
  },
  {
   "cell_type": "code",
   "execution_count": 6,
   "id": "814f083f",
   "metadata": {},
   "outputs": [
    {
     "data": {
      "text/plain": [
       "'A'"
      ]
     },
     "execution_count": 6,
     "metadata": {},
     "output_type": "execute_result"
    }
   ],
   "source": [
    "chr(65)"
   ]
  },
  {
   "cell_type": "code",
   "execution_count": 13,
   "id": "32752ff8",
   "metadata": {},
   "outputs": [
    {
     "name": "stdout",
     "output_type": "stream",
     "text": [
      "We have character A\n"
     ]
    }
   ],
   "source": [
    "x=0\n",
    "for i in \"ABCDAA\":\n",
    "    if( ord(i)==65 ):\n",
    "        x=1\n",
    "        \n",
    "if(x==1):\n",
    "    print(\"We have character A\")\n",
    "else:\n",
    "    print(\"We dont have the character\")"
   ]
  },
  {
   "cell_type": "code",
   "execution_count": 16,
   "id": "e3e12f3f",
   "metadata": {},
   "outputs": [],
   "source": [
    "# pattern programming\n",
    "# 1 => 2-3 access\n",
    "# 2 => "
   ]
  },
  {
   "cell_type": "code",
   "execution_count": 24,
   "id": "0ac75bb9",
   "metadata": {},
   "outputs": [
    {
     "name": "stdout",
     "output_type": "stream",
     "text": [
      "hey hey \n",
      "hey hey \n",
      "hey hey \n",
      "hey hey \n",
      "hey hey \n"
     ]
    }
   ],
   "source": [
    "for i in range(1,6):\n",
    "    \n",
    "    for j in range(1,3):\n",
    "        print(\"hey\",end=\" \")\n",
    "        \n",
    "    print(\"\")"
   ]
  },
  {
   "cell_type": "code",
   "execution_count": 41,
   "id": "9ae76f33",
   "metadata": {},
   "outputs": [
    {
     "name": "stdout",
     "output_type": "stream",
     "text": [
      "1 2 3 4 \n",
      "1 2 3 4 \n",
      "1 2 3 4 \n",
      "1 2 3 4 \n"
     ]
    }
   ],
   "source": [
    "for i in range(1,5):\n",
    "\n",
    "    for j in range(1,5):\n",
    "        print(j, end=\" \")\n",
    "        \n",
    "    print()"
   ]
  },
  {
   "cell_type": "code",
   "execution_count": 44,
   "id": "cbc3deaa",
   "metadata": {},
   "outputs": [
    {
     "name": "stdout",
     "output_type": "stream",
     "text": [
      "4 3 2 1 \n",
      "4 3 2 1 \n",
      "4 3 2 1 \n",
      "4 3 2 1 \n"
     ]
    }
   ],
   "source": [
    "for i in range(1,5):\n",
    "\n",
    "    for j in range(4,0,-1):\n",
    "        print(j, end=\" \")\n",
    "        \n",
    "    print()"
   ]
  },
  {
   "cell_type": "code",
   "execution_count": 49,
   "id": "a04a512f",
   "metadata": {},
   "outputs": [
    {
     "name": "stdout",
     "output_type": "stream",
     "text": [
      "10 10 10 10 10 \n",
      "11 11 11 11 11 \n",
      "12 12 12 12 12 \n",
      "13 13 13 13 13 \n",
      "14 14 14 14 14 \n",
      "15 15 15 15 15 \n",
      "16 16 16 16 16 \n"
     ]
    }
   ],
   "source": [
    "for i in range(10,17):\n",
    "\n",
    "    for j in range(1,6):\n",
    "        print(i, end=\" \")\n",
    "        \n",
    "    print()"
   ]
  },
  {
   "cell_type": "code",
   "execution_count": 54,
   "id": "e55706a3",
   "metadata": {},
   "outputs": [
    {
     "name": "stdout",
     "output_type": "stream",
     "text": [
      "10 10 10 10 10 \n",
      "11 11 11 11 11 \n",
      "12 12 12 12 12 \n",
      "13 13 13 13 13 \n",
      "14 14 14 14 14 \n",
      "15 15 15 15 15 \n",
      "16 16 16 16 16 \n"
     ]
    }
   ],
   "source": [
    "x=10\n",
    "for i in range(1,8):\n",
    "\n",
    "    for j in range(1,6):\n",
    "        print(x, end=\" \")\n",
    "    x+=1\n",
    "        \n",
    "    print()"
   ]
  },
  {
   "cell_type": "code",
   "execution_count": 59,
   "id": "b44067c3",
   "metadata": {},
   "outputs": [
    {
     "name": "stdout",
     "output_type": "stream",
     "text": [
      "* * * * * \n",
      "* * * * \n",
      "* * * \n",
      "* * \n",
      "* \n"
     ]
    }
   ],
   "source": [
    "for i in range(1,6):\n",
    "\n",
    "    for j in range(i,6):\n",
    "        print(\"*\", end=\" \")\n",
    "        \n",
    "    print()"
   ]
  },
  {
   "cell_type": "code",
   "execution_count": 61,
   "id": "7dade0cc",
   "metadata": {},
   "outputs": [
    {
     "name": "stdout",
     "output_type": "stream",
     "text": [
      "* * * * * \n",
      "* * * * \n",
      "* * * \n",
      "* * \n",
      "* \n"
     ]
    }
   ],
   "source": [
    "for i in range(5,0,-1):\n",
    "\n",
    "    for j in range(1,i+1):\n",
    "        print(\"*\", end=\" \")\n",
    "        \n",
    "    print()"
   ]
  }
 ],
 "metadata": {
  "kernelspec": {
   "display_name": "Python 3 (ipykernel)",
   "language": "python",
   "name": "python3"
  },
  "language_info": {
   "codemirror_mode": {
    "name": "ipython",
    "version": 3
   },
   "file_extension": ".py",
   "mimetype": "text/x-python",
   "name": "python",
   "nbconvert_exporter": "python",
   "pygments_lexer": "ipython3",
   "version": "3.10.11"
  }
 },
 "nbformat": 4,
 "nbformat_minor": 5
}
